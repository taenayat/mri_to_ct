{
 "cells": [
  {
   "cell_type": "code",
   "execution_count": null,
   "metadata": {},
   "outputs": [
    {
     "data": {
      "text/plain": [
       "Empty DataFrame\n",
       "Columns: [A, B, C]\n",
       "Index: []\n"
      ]
     },
     "metadata": {},
     "output_type": "display_data"
    }
   ],
   "source": [
    "import pandas as pd\n",
    "\n",
    "cols = ['A','B','C']\n",
    "df = pd.DataFrame(columns=cols)\n",
    "\n",
    "dic = {}\n",
    "dic['A'] = 1\n",
    "dic['B'] = 2\n"
   ]
  },
  {
   "cell_type": "code",
   "execution_count": null,
   "metadata": {},
   "outputs": [
    {
     "data": {
      "text/plain": [
       "Traceback (most recent call last):\n",
       "  File \"/home/tenayat/.vscode-server/extensions/ms-python.python-2024.20.0-linux-x64/python_files/python_server.py\", line 130, in exec_user_input\n",
       "    retval = callable_(user_input, user_globals)\n",
       "  File \"<string>\", line 1, in <module>\n",
       "ValueError: dictionary update sequence element #0 has length 1; 2 is required\n",
       "\n"
      ]
     },
     "metadata": {},
     "output_type": "display_data"
    }
   ],
   "source": [
    "dic = {col:0 for col in cols}\n",
    "dic"
   ]
  },
  {
   "cell_type": "code",
   "execution_count": null,
   "metadata": {},
   "outputs": [
    {
     "data": {
      "text/plain": [
       "{'A': [], 'B': [], 'C': []}\n"
      ]
     },
     "metadata": {},
     "output_type": "display_data"
    }
   ],
   "source": [
    "dic = {}\n",
    "for col in cols:\n",
    "    dic[col] = []\n",
    "print(dic)"
   ]
  },
  {
   "cell_type": "code",
   "execution_count": null,
   "metadata": {},
   "outputs": [],
   "source": [
    "path = '/mnt/homeGPU/tenayat/mri_to_ct/24_11_19_baseline_400epoch/'\n",
    "df1 = pd.read_csv(path + 'train_losses.csv')\n",
    "df2 = pd.read_csv(path + 'train_losses2.csv')\n",
    "df3 = pd.concat((df1,df2), ignore_index=True)\n",
    "df3.to_csv(path+'train/losses_tensorboard.csv', index=False)"
   ]
  },
  {
   "cell_type": "code",
   "execution_count": null,
   "metadata": {},
   "outputs": [],
   "source": [
    "experiments = ['24_12_09_pix2pix', '24_11_19_baseline_400epoch']\n",
    "\n",
    "for experiment in experiments:\n",
    "    image_path = f\"mri_to_ct/{experiment}/test/images/0_real_A-fake_B-real_B-clean_mask.png\"\n",
    "    img = mpimg.imread(image_path)\n",
    "    height, width = img.shape[:2]\n",
    "    new_width = int(width * 0.75)\n",
    "    cropped_img = img[:, :new_width]\n",
    "    \n",
    "    # Save the cropped images in experiment-specific folders\n",
    "    save_dir = f\"saved_images/{experiment}\"\n",
    "    os.makedirs(save_dir, exist_ok=True)\n",
    "    plt.imsave(f\"{save_dir}/cropped_image.png\", cropped_img)\n"
   ]
  },
  {
   "cell_type": "code",
   "execution_count": null,
   "metadata": {},
   "outputs": [],
   "source": []
  }
 ],
 "metadata": {
  "kernelspec": {
   "display_name": "venv",
   "language": "python",
   "name": "python3"
  },
  "language_info": {
   "name": "python",
   "version": "3.8.10"
  }
 },
 "nbformat": 4,
 "nbformat_minor": 2
}
